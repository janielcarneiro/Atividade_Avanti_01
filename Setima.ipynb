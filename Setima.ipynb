{
  "nbformat": 4,
  "nbformat_minor": 0,
  "metadata": {
    "colab": {
      "provenance": [],
      "authorship_tag": "ABX9TyM0HdpdizLgXmXrd9lV4+xA",
      "include_colab_link": true
    },
    "kernelspec": {
      "name": "python3",
      "display_name": "Python 3"
    },
    "language_info": {
      "name": "python"
    }
  },
  "cells": [
    {
      "cell_type": "markdown",
      "metadata": {
        "id": "view-in-github",
        "colab_type": "text"
      },
      "source": [
        "<a href=\"https://colab.research.google.com/github/janielcarneiro/Atividade_Avanti_01/blob/main/Setima.ipynb\" target=\"_parent\"><img src=\"https://colab.research.google.com/assets/colab-badge.svg\" alt=\"Open In Colab\"/></a>"
      ]
    },
    {
      "cell_type": "code",
      "execution_count": 2,
      "metadata": {
        "colab": {
          "base_uri": "https://localhost:8080/"
        },
        "id": "RFBlyEVklksf",
        "outputId": "855c6b0f-1e05-49cb-8330-70befef027b4"
      },
      "outputs": [
        {
          "output_type": "stream",
          "name": "stdout",
          "text": [
            "0        True\n",
            "1       False\n",
            "2       False\n",
            "3       False\n",
            "4        True\n",
            "        ...  \n",
            "2995    False\n",
            "2996    False\n",
            "2997     True\n",
            "2998    False\n",
            "2999    False\n",
            "Name: latitude, Length: 3000, dtype: bool\n"
          ]
        }
      ],
      "source": [
        "import pandas as pd\n",
        "\n",
        "\n",
        "california = pd.read_csv(\"sample_data/california_housing_test.csv\")\n",
        "coluna_Especifica = california[['latitude', 'median_income']]\n",
        "print(coluna_Especifica['latitude'] > 36)"
      ]
    }
  ]
}